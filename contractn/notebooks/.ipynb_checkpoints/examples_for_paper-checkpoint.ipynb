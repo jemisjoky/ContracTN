{
 "cells": [
  {
   "cell_type": "code",
   "execution_count": 9,
   "id": "88ab464c",
   "metadata": {},
   "outputs": [
    {
     "name": "stdout",
     "output_type": "stream",
     "text": [
      "[1.e+000 1.e-100]\n",
      "CPU times: user 6.81 ms, sys: 0 ns, total: 6.81 ms\n",
      "Wall time: 6.68 ms\n"
     ]
    },
    {
     "data": {
      "text/plain": [
       "array([1.e+000, 1.e-100])"
      ]
     },
     "execution_count": 9,
     "metadata": {},
     "output_type": "execute_result"
    }
   ],
   "source": [
    "### Example of many vectors connected to a single copy node ###\n",
    "\n",
    "import numpy as np\n",
    "from contractn import TN\n",
    "tn = TN()\n",
    "\n",
    "# Add central copy tensor of order 101\n",
    "copy_node = tn.add_copy_node(101)\n",
    "\n",
    "# Connect vectors to all but one edge of the copy tensor\n",
    "for i in range(100):\n",
    "    vec = np.array([1, 0.1])\n",
    "    vec_node = tn.add_dense_node(vec)\n",
    "    # Connect i'th axis of copy_node to 0'th axis of vec_node\n",
    "    tn.connect_nodes(copy_node, vec_node, i, 0)\n",
    "\n",
    "print(tn.contract())  # array([1.e+000, 1.e-100])\n",
    "%time tn.contract()   # 6.7 ms"
   ]
  }
 ],
 "metadata": {
  "kernelspec": {
   "display_name": "Python 3 (ipykernel)",
   "language": "python",
   "name": "python3"
  },
  "language_info": {
   "codemirror_mode": {
    "name": "ipython",
    "version": 3
   },
   "file_extension": ".py",
   "mimetype": "text/x-python",
   "name": "python",
   "nbconvert_exporter": "python",
   "pygments_lexer": "ipython3",
   "version": "3.8.10"
  }
 },
 "nbformat": 4,
 "nbformat_minor": 5
}

{
 "cells": [
  {
   "cell_type": "code",
   "execution_count": 1,
   "id": "88ab464c",
   "metadata": {},
   "outputs": [
    {
     "name": "stdout",
     "output_type": "stream",
     "text": [
      "[1.         0.36603234]\n",
      "CPU times: user 7.13 ms, sys: 0 ns, total: 7.13 ms\n",
      "Wall time: 6.99 ms\n"
     ]
    },
    {
     "data": {
      "text/plain": [
       "array([1.        , 0.36603234])"
      ]
     },
     "execution_count": 1,
     "metadata": {},
     "output_type": "execute_result"
    }
   ],
   "source": [
    "### Example of many vectors connected to a single copy node ###\n",
    "\n",
    "import numpy as np\n",
    "from contractn import TN\n",
    "tn = TN()\n",
    "\n",
    "# Add central copy tensor of order 101\n",
    "copy_node = tn.add_copy_node(101)\n",
    "\n",
    "# Connect vectors to all but one edge of the copy tensor\n",
    "for i in range(100):\n",
    "    vec = np.array([1, 0.99])\n",
    "    vec_node = tn.add_dense_node(vec)\n",
    "    # Connect i'th axis of copy_node to 0'th axis of vec_node\n",
    "    tn.connect_nodes(copy_node, vec_node, i, 0)\n",
    "\n",
    "print(tn.contract())  # array([1., 0.36603234])\n",
    "%time tn.contract()   # 6.85 ms"
   ]
  },
  {
   "cell_type": "code",
   "execution_count": 2,
   "id": "396f1b8f",
   "metadata": {},
   "outputs": [
    {
     "name": "stdout",
     "output_type": "stream",
     "text": [
      "ac,ad,ae->cde\n",
      "abc,ae,bf,cg->efg\n"
     ]
    }
   ],
   "source": [
    "### Example of Tucker vs. CP decomposition and einsum ###\n",
    "\n",
    "import numpy as np\n",
    "from contractn import TN\n",
    "\n",
    "# Initialize TNs for 3rd-order Tucker and CP decompositions\n",
    "cp = TN()\n",
    "tucker = TN()\n",
    "\n",
    "# Add central \"hub\" cores\n",
    "cp_hub = cp.add_copy_node(3)\n",
    "tucker_hub = tucker.add_dense_node(np.ones((4, 4, 4)))\n",
    "\n",
    "# Connect each hub to three factor matrices\n",
    "for i in range(3):\n",
    "    mat = np.eye(4, 10)\n",
    "    cp_mat = cp.add_dense_node(mat)\n",
    "    tucker_mat = tucker.add_dense_node(mat)\n",
    "    cp.connect_nodes(cp_hub, cp_mat, i, 0)\n",
    "    tucker.connect_nodes(tucker_hub, tucker_mat, i, 0)\n",
    "\n",
    "print(cp.einsum_str)      # \"ac,ad,ae->cde\"\n",
    "print(tucker.einsum_str)  # \"abc,ae,bf,cg->efg\""
   ]
  },
  {
   "cell_type": "code",
   "execution_count": 3,
   "id": "abe642fc",
   "metadata": {},
   "outputs": [
    {
     "name": "stdout",
     "output_type": "stream",
     "text": [
      "[inf inf inf]\n",
      "(array([1., 1., 1.]), array(1098.61228867))\n"
     ]
    },
    {
     "name": "stderr",
     "output_type": "stream",
     "text": [
      "/home/jemis/ContracTN/contractn/einsum.py:75: RuntimeWarning: overflow encountered in exp\n",
      "  return get_func(\"exp\", backend)(x)\n"
     ]
    }
   ],
   "source": [
    "### Example of multiplying many matrices ###\n",
    "\n",
    "import numpy as np\n",
    "from contractn import TN\n",
    "\n",
    "# Initialize and connect together vector\n",
    "# to a chain of 1000 3x3 matrices\n",
    "tn = TN()\n",
    "prev_node = tn.add_dense_node(np.ones((3,)))\n",
    "for i in range(1000):\n",
    "    mat_node = tn.add_dense_node(np.ones((3, 3)))\n",
    "    tn.connect_nodes(prev_node, mat_node, -1, 0)\n",
    "    prev_node = mat_node\n",
    "\n",
    "print(tn.contract())\n",
    "    # [inf inf inf]\n",
    "print(tn.contract(split_format=True))\n",
    "    # (array([1., 1., 1.]), array(1098.61228867))"
   ]
  },
  {
   "cell_type": "code",
   "execution_count": null,
   "id": "6eced4b1",
   "metadata": {},
   "outputs": [],
   "source": []
  }
 ],
 "metadata": {
  "kernelspec": {
   "display_name": "Python 3 (ipykernel)",
   "language": "python",
   "name": "python3"
  },
  "language_info": {
   "codemirror_mode": {
    "name": "ipython",
    "version": 3
   },
   "file_extension": ".py",
   "mimetype": "text/x-python",
   "name": "python",
   "nbconvert_exporter": "python",
   "pygments_lexer": "ipython3",
   "version": "3.8.10"
  }
 },
 "nbformat": 4,
 "nbformat_minor": 5
}
